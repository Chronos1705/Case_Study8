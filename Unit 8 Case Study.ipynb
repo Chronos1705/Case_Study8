{
 "cells": [
  {
   "cell_type": "markdown",
   "metadata": {},
   "source": [
    "# Cherry Blossom Data Analysis"
   ]
  },
  {
   "cell_type": "code",
   "execution_count": 17,
   "metadata": {
    "collapsed": true
   },
   "outputs": [],
   "source": [
    "select.cols <- function(col.names, header.row, search.locs) {\n",
    "    sapply(col.names, function(name, header.row, search.locs) {\n",
    "        start.pos <- regexpr(name, header.row)[[1]]\n",
    "        if (start.pos == -1) {\n",
    "            return(c(NA, NA))\n",
    "        }\n",
    "        \n",
    "        index <- sum(start.pos >= search.locs)\n",
    "        c(search.locs[index] + 1, search.locs[index + 1] - 1)\n",
    "    }, header.row=header.row, search.locs=search.locs)\n",
    "}"
   ]
  },
  {
   "cell_type": "code",
   "execution_count": 18,
   "metadata": {
    "collapsed": true
   },
   "outputs": [],
   "source": [
    "read.cherry <- function(file.name) {\n",
    "    flat.file <- readLines(file.name)\n",
    "    eq.index <- grep('^===', flat.file)\n",
    "    \n",
    "    spacer.row <- flat.file[eq.index]\n",
    "    header.row <- tolower(flat.file[eq.index - 1])\n",
    "    body <- flat.file[-(1:eq.index)]\n",
    "    \n",
    "    blank.locs <- gregexpr(\" \", spacer.row)\n",
    "    search.locs <- c(0, blank.locs[[1]])\n",
    "    if (substr(spacer.row, nchar(spacer.row), nchar(spacer.row)) != \" \") {\n",
    "        search.locs <- c(search.locs, nchar(spacer.row))\n",
    "    }\n",
    "    \n",
    "    short.col.names <- c(\"name\", \"home\", \"ag\", \"gun\", \"net\", \"time\")\n",
    "    loc.cols <- select.cols(short.col.names, header.row, search.locs)\n",
    "    \n",
    "    values <- mapply(substr, list(body), start=loc.cols[1,], stop=loc.cols[2,])\n",
    "    colnames(values) <- short.col.names\n",
    "    \n",
    "    return(values)\n",
    "}"
   ]
  },
  {
   "cell_type": "markdown",
   "metadata": {},
   "source": [
    "## Read men's data"
   ]
  },
  {
   "cell_type": "code",
   "execution_count": 19,
   "metadata": {},
   "outputs": [
    {
     "data": {
      "text/html": [
       "<ol class=list-inline>\n",
       "\t<li>'MenTxt/1999.txt'</li>\n",
       "\t<li>'MenTxt/2000.txt'</li>\n",
       "\t<li>'MenTxt/2001.txt'</li>\n",
       "\t<li>'MenTxt/2002.txt'</li>\n",
       "\t<li>'MenTxt/2003.txt'</li>\n",
       "\t<li>'MenTxt/2004.txt'</li>\n",
       "\t<li>'MenTxt/2005.txt'</li>\n",
       "\t<li>'MenTxt/2006.txt'</li>\n",
       "\t<li>'MenTxt/2007.txt'</li>\n",
       "\t<li>'MenTxt/2008.txt'</li>\n",
       "\t<li>'MenTxt/2009.txt'</li>\n",
       "\t<li>'MenTxt/2010.txt'</li>\n",
       "\t<li>'MenTxt/2011.txt'</li>\n",
       "\t<li>'MenTxt/2012.txt'</li>\n",
       "</ol>\n"
      ],
      "text/latex": [
       "\\begin{enumerate*}\n",
       "\\item 'MenTxt/1999.txt'\n",
       "\\item 'MenTxt/2000.txt'\n",
       "\\item 'MenTxt/2001.txt'\n",
       "\\item 'MenTxt/2002.txt'\n",
       "\\item 'MenTxt/2003.txt'\n",
       "\\item 'MenTxt/2004.txt'\n",
       "\\item 'MenTxt/2005.txt'\n",
       "\\item 'MenTxt/2006.txt'\n",
       "\\item 'MenTxt/2007.txt'\n",
       "\\item 'MenTxt/2008.txt'\n",
       "\\item 'MenTxt/2009.txt'\n",
       "\\item 'MenTxt/2010.txt'\n",
       "\\item 'MenTxt/2011.txt'\n",
       "\\item 'MenTxt/2012.txt'\n",
       "\\end{enumerate*}\n"
      ],
      "text/markdown": [
       "1. 'MenTxt/1999.txt'\n",
       "2. 'MenTxt/2000.txt'\n",
       "3. 'MenTxt/2001.txt'\n",
       "4. 'MenTxt/2002.txt'\n",
       "5. 'MenTxt/2003.txt'\n",
       "6. 'MenTxt/2004.txt'\n",
       "7. 'MenTxt/2005.txt'\n",
       "8. 'MenTxt/2006.txt'\n",
       "9. 'MenTxt/2007.txt'\n",
       "10. 'MenTxt/2008.txt'\n",
       "11. 'MenTxt/2009.txt'\n",
       "12. 'MenTxt/2010.txt'\n",
       "13. 'MenTxt/2011.txt'\n",
       "14. 'MenTxt/2012.txt'\n",
       "\n",
       "\n"
      ],
      "text/plain": [
       " [1] \"MenTxt/1999.txt\" \"MenTxt/2000.txt\" \"MenTxt/2001.txt\" \"MenTxt/2002.txt\"\n",
       " [5] \"MenTxt/2003.txt\" \"MenTxt/2004.txt\" \"MenTxt/2005.txt\" \"MenTxt/2006.txt\"\n",
       " [9] \"MenTxt/2007.txt\" \"MenTxt/2008.txt\" \"MenTxt/2009.txt\" \"MenTxt/2010.txt\"\n",
       "[13] \"MenTxt/2011.txt\" \"MenTxt/2012.txt\""
      ]
     },
     "metadata": {},
     "output_type": "display_data"
    }
   ],
   "source": [
    "men.files <- paste(\"MenTxt/\", 1999:2012, \".txt\", sep=\"\")\n",
    "men.files"
   ]
  },
  {
   "cell_type": "code",
   "execution_count": 21,
   "metadata": {},
   "outputs": [
    {
     "data": {
      "text/html": [
       "14"
      ],
      "text/latex": [
       "14"
      ],
      "text/markdown": [
       "14"
      ],
      "text/plain": [
       "[1] 14"
      ]
     },
     "metadata": {},
     "output_type": "display_data"
    }
   ],
   "source": [
    "men.data <- lapply(men.files, read.cherry)\n",
    "length(men.data)"
   ]
  },
  {
   "cell_type": "code",
   "execution_count": 25,
   "metadata": {},
   "outputs": [
    {
     "data": {
      "text/html": [
       "'data.frame'"
      ],
      "text/latex": [
       "'data.frame'"
      ],
      "text/markdown": [
       "'data.frame'"
      ],
      "text/plain": [
       "[1] \"data.frame\""
      ]
     },
     "metadata": {},
     "output_type": "display_data"
    }
   ],
   "source": [
    "men.data <- lapply(men.data, as.data.frame)\n",
    "class(men.data[[1]])"
   ]
  },
  {
   "cell_type": "markdown",
   "metadata": {},
   "source": [
    "## Read women's data"
   ]
  },
  {
   "cell_type": "code",
   "execution_count": 20,
   "metadata": {},
   "outputs": [
    {
     "data": {
      "text/html": [
       "<ol class=list-inline>\n",
       "\t<li>'WomenTxt/1999.txt'</li>\n",
       "\t<li>'WomenTxt/2000.txt'</li>\n",
       "\t<li>'WomenTxt/2001.txt'</li>\n",
       "\t<li>'WomenTxt/2002.txt'</li>\n",
       "\t<li>'WomenTxt/2003.txt'</li>\n",
       "\t<li>'WomenTxt/2004.txt'</li>\n",
       "\t<li>'WomenTxt/2005.txt'</li>\n",
       "\t<li>'WomenTxt/2006.txt'</li>\n",
       "\t<li>'WomenTxt/2007.txt'</li>\n",
       "\t<li>'WomenTxt/2008.txt'</li>\n",
       "\t<li>'WomenTxt/2009.txt'</li>\n",
       "\t<li>'WomenTxt/2010.txt'</li>\n",
       "\t<li>'WomenTxt/2011.txt'</li>\n",
       "\t<li>'WomenTxt/2012.txt'</li>\n",
       "</ol>\n"
      ],
      "text/latex": [
       "\\begin{enumerate*}\n",
       "\\item 'WomenTxt/1999.txt'\n",
       "\\item 'WomenTxt/2000.txt'\n",
       "\\item 'WomenTxt/2001.txt'\n",
       "\\item 'WomenTxt/2002.txt'\n",
       "\\item 'WomenTxt/2003.txt'\n",
       "\\item 'WomenTxt/2004.txt'\n",
       "\\item 'WomenTxt/2005.txt'\n",
       "\\item 'WomenTxt/2006.txt'\n",
       "\\item 'WomenTxt/2007.txt'\n",
       "\\item 'WomenTxt/2008.txt'\n",
       "\\item 'WomenTxt/2009.txt'\n",
       "\\item 'WomenTxt/2010.txt'\n",
       "\\item 'WomenTxt/2011.txt'\n",
       "\\item 'WomenTxt/2012.txt'\n",
       "\\end{enumerate*}\n"
      ],
      "text/markdown": [
       "1. 'WomenTxt/1999.txt'\n",
       "2. 'WomenTxt/2000.txt'\n",
       "3. 'WomenTxt/2001.txt'\n",
       "4. 'WomenTxt/2002.txt'\n",
       "5. 'WomenTxt/2003.txt'\n",
       "6. 'WomenTxt/2004.txt'\n",
       "7. 'WomenTxt/2005.txt'\n",
       "8. 'WomenTxt/2006.txt'\n",
       "9. 'WomenTxt/2007.txt'\n",
       "10. 'WomenTxt/2008.txt'\n",
       "11. 'WomenTxt/2009.txt'\n",
       "12. 'WomenTxt/2010.txt'\n",
       "13. 'WomenTxt/2011.txt'\n",
       "14. 'WomenTxt/2012.txt'\n",
       "\n",
       "\n"
      ],
      "text/plain": [
       " [1] \"WomenTxt/1999.txt\" \"WomenTxt/2000.txt\" \"WomenTxt/2001.txt\"\n",
       " [4] \"WomenTxt/2002.txt\" \"WomenTxt/2003.txt\" \"WomenTxt/2004.txt\"\n",
       " [7] \"WomenTxt/2005.txt\" \"WomenTxt/2006.txt\" \"WomenTxt/2007.txt\"\n",
       "[10] \"WomenTxt/2008.txt\" \"WomenTxt/2009.txt\" \"WomenTxt/2010.txt\"\n",
       "[13] \"WomenTxt/2011.txt\" \"WomenTxt/2012.txt\""
      ]
     },
     "metadata": {},
     "output_type": "display_data"
    }
   ],
   "source": [
    "women.files <- paste(\"WomenTxt/\", 1999:2012, \".txt\", sep=\"\")\n",
    "women.files"
   ]
  },
  {
   "cell_type": "code",
   "execution_count": 26,
   "metadata": {},
   "outputs": [
    {
     "data": {
      "text/html": [
       "14"
      ],
      "text/latex": [
       "14"
      ],
      "text/markdown": [
       "14"
      ],
      "text/plain": [
       "[1] 14"
      ]
     },
     "metadata": {},
     "output_type": "display_data"
    }
   ],
   "source": [
    "women.data <- lapply(women.files, read.cherry)\n",
    "length(women.data)"
   ]
  },
  {
   "cell_type": "code",
   "execution_count": 27,
   "metadata": {},
   "outputs": [
    {
     "data": {
      "text/html": [
       "'data.frame'"
      ],
      "text/latex": [
       "'data.frame'"
      ],
      "text/markdown": [
       "'data.frame'"
      ],
      "text/plain": [
       "[1] \"data.frame\""
      ]
     },
     "metadata": {},
     "output_type": "display_data"
    }
   ],
   "source": [
    "women.data <- lapply(women.data, as.data.frame)\n",
    "class(women.data[[1]])"
   ]
  },
  {
   "cell_type": "markdown",
   "metadata": {},
   "source": [
    "# Convert age values to numeric"
   ]
  },
  {
   "cell_type": "code",
   "execution_count": 29,
   "metadata": {},
   "outputs": [
    {
     "data": {
      "text/html": [
       "'factor'"
      ],
      "text/latex": [
       "'factor'"
      ],
      "text/markdown": [
       "'factor'"
      ],
      "text/plain": [
       "[1] \"factor\""
      ]
     },
     "metadata": {},
     "output_type": "display_data"
    }
   ],
   "source": [
    "class(women.data[[1]]$ag)"
   ]
  },
  {
   "cell_type": "code",
   "execution_count": 30,
   "metadata": {},
   "outputs": [
    {
     "data": {
      "text/html": [
       "'numeric'"
      ],
      "text/latex": [
       "'numeric'"
      ],
      "text/markdown": [
       "'numeric'"
      ],
      "text/plain": [
       "[1] \"numeric\""
      ]
     },
     "metadata": {},
     "output_type": "display_data"
    }
   ],
   "source": [
    "convert.age <- function(x) {\n",
    "    x$ag <- as.numeric(x$ag)\n",
    "    return(x)\n",
    "}\n",
    "\n",
    "men.data <- lapply(men.data, convert.age)\n",
    "women.data <- lapply(women.data, convert.age)\n",
    "\n",
    "class(women.data[[1]]$ag)"
   ]
  },
  {
   "cell_type": "markdown",
   "metadata": {},
   "source": [
    "# Convert time to numeric"
   ]
  }
 ],
 "metadata": {
  "kernelspec": {
   "display_name": "R",
   "language": "R",
   "name": "ir"
  },
  "language_info": {
   "codemirror_mode": "r",
   "file_extension": ".r",
   "mimetype": "text/x-r-source",
   "name": "R",
   "pygments_lexer": "r",
   "version": "3.3.2"
  }
 },
 "nbformat": 4,
 "nbformat_minor": 2
}
