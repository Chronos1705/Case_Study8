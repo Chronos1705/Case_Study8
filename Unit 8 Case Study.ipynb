{
 "cells": [
  {
   "cell_type": "markdown",
   "metadata": {},
   "source": [
    "# Cherry Blossom Data Analysis"
   ]
  },
  {
   "cell_type": "markdown",
   "metadata": {},
   "source": [
    "## Introduction\n",
    "\n",
    "The purpose of this analysis is to demonstrate the power of R in parsing data into the correct format. It does not delve into a detailed statistical analysis of the individual race results other than a simple comparison of the men's and women's times, as well as a few visualizations of the age distributions.\n",
    "\n",
    "The data that we are analyzing here is the race completion time for all participants in the annual Washington, DC Cherry Blossom 10 mile race. We look at men and women for all years between 1999 and 2012, inclusive.\n",
    "\n",
    "The data is in a fixed width format, though some formatting errors were introduced when it was converted to a web format. The data was gathered via webscraping using Python's `request` and `BeautifulSoup4` libraries, along with some human intervention when webscraping failed. We put the results pages into a Python list and noticed that the HTML format used placed the results inside a `<pre>` tag. Sometimes, the results would be further nested inside a `<font>` tag to change the fixed width font, but this was inconsistent, so we checked the contents of the tags before writing them to a text file.\n",
    "\n",
    "We pulled all data that we could automatically, though some years were still not pulled properly by the script. For these years, we used a manual process of copy-pasting the results into a text file.\n",
    "\n",
    "The Python notebook will be included along with this notebook as a reference.\n",
    "\n",
    "A vimscript loaded each year and cleaned up results by removing `*` and `#` identifiers at the end of some participants' times, which were used to indicate the runner was outside the age guidelines for their group. The script also removed trailing comment lines and the introduction lines at the top, leaving only header row, the spacer row, and the records.\n",
    "\n",
    "A second vimscript was used to clean a few other years, such as 2009, which contained misaligned columns. This was easily done by looking at the number of characters in a row and adding a space after the `Div/Tot` column for rows with too few characters. This fixed all the alignmnet issues in the data.\n",
    "\n",
    "The script was modified to adjust for another year in which the Age column was not aligned properly in the data relative to the position for the header files."
   ]
  },
  {
   "cell_type": "markdown",
   "metadata": {},
   "source": [
    "## Pull data from files\n",
    "\n",
    "The second step was to pull this data into files. The following scripts are heavily based on the unit 8 videos by Dr. McGee and the R script she referenced from <a href=\"http://www.rdatasciencecases.org/Runners/code.R\">rdatasciencecases.org</a>.\n",
    "\n",
    "The main difference is that these assume the data has not already been read in as a list of lines. Instead, we pass the name of the file. There is also a little extra cleaning at the end before the matrix is passed back."
   ]
  },
  {
   "cell_type": "code",
   "execution_count": 44,
   "metadata": {
    "collapsed": true
   },
   "outputs": [],
   "source": [
    "select.cols <- function(col.names, header.row, search.locs) {\n",
    "    sapply(col.names, function(name, header.row, search.locs) {\n",
    "        start.pos <- regexpr(name, header.row)[[1]]\n",
    "        if (start.pos == -1) {\n",
    "            return(c(NA, NA))\n",
    "        }\n",
    "        \n",
    "        index <- sum(start.pos >= search.locs)\n",
    "        c(search.locs[index] + 1, search.locs[index + 1] - 1)\n",
    "    }, header.row=header.row, search.locs=search.locs)\n",
    "}"
   ]
  },
  {
   "cell_type": "code",
   "execution_count": 45,
   "metadata": {
    "collapsed": true
   },
   "outputs": [],
   "source": [
    "read.cherry <- function(file.name) {\n",
    "    flat.file <- readLines(file.name)\n",
    "    eq.index <- grep('^===', flat.file)\n",
    "    \n",
    "    spacer.row <- flat.file[eq.index]\n",
    "    header.row <- tolower(flat.file[eq.index - 1])\n",
    "    body <- flat.file[-(1:eq.index)]\n",
    "    \n",
    "    blank.locs <- gregexpr(\" \", spacer.row)\n",
    "    search.locs <- c(0, blank.locs[[1]])\n",
    "    if (substr(spacer.row, nchar(spacer.row), nchar(spacer.row)) != \" \") {\n",
    "        search.locs <- c(search.locs, nchar(spacer.row))\n",
    "    }\n",
    "    \n",
    "    short.col.names <- c(\"name\", \"home\", \"ag\", \"gun\", \"net\", \"time\")\n",
    "    loc.cols <- select.cols(short.col.names, header.row, search.locs)\n",
    "    \n",
    "    values <- mapply(substr, list(body), start=loc.cols[1,], stop=loc.cols[2,])\n",
    "    colnames(values) <- short.col.names\n",
    "    \n",
    "    return(values)\n",
    "}"
   ]
  },
  {
   "cell_type": "markdown",
   "metadata": {},
   "source": [
    "### Read men's data\n",
    "\n",
    "First we need to read the men's running data in. We know that we have every year from 1999 to 2012 stored in the `MenTxt` folder, so we can create a list and iterate through it with `lapply` to get a list of matrices."
   ]
  },
  {
   "cell_type": "code",
   "execution_count": 46,
   "metadata": {},
   "outputs": [
    {
     "data": {
      "text/html": [
       "<ol class=list-inline>\n",
       "\t<li>'MenTxt/1999.txt'</li>\n",
       "\t<li>'MenTxt/2000.txt'</li>\n",
       "\t<li>'MenTxt/2001.txt'</li>\n",
       "\t<li>'MenTxt/2002.txt'</li>\n",
       "\t<li>'MenTxt/2003.txt'</li>\n",
       "\t<li>'MenTxt/2004.txt'</li>\n",
       "\t<li>'MenTxt/2005.txt'</li>\n",
       "\t<li>'MenTxt/2006.txt'</li>\n",
       "\t<li>'MenTxt/2007.txt'</li>\n",
       "\t<li>'MenTxt/2008.txt'</li>\n",
       "\t<li>'MenTxt/2009.txt'</li>\n",
       "\t<li>'MenTxt/2010.txt'</li>\n",
       "\t<li>'MenTxt/2011.txt'</li>\n",
       "\t<li>'MenTxt/2012.txt'</li>\n",
       "</ol>\n"
      ],
      "text/latex": [
       "\\begin{enumerate*}\n",
       "\\item 'MenTxt/1999.txt'\n",
       "\\item 'MenTxt/2000.txt'\n",
       "\\item 'MenTxt/2001.txt'\n",
       "\\item 'MenTxt/2002.txt'\n",
       "\\item 'MenTxt/2003.txt'\n",
       "\\item 'MenTxt/2004.txt'\n",
       "\\item 'MenTxt/2005.txt'\n",
       "\\item 'MenTxt/2006.txt'\n",
       "\\item 'MenTxt/2007.txt'\n",
       "\\item 'MenTxt/2008.txt'\n",
       "\\item 'MenTxt/2009.txt'\n",
       "\\item 'MenTxt/2010.txt'\n",
       "\\item 'MenTxt/2011.txt'\n",
       "\\item 'MenTxt/2012.txt'\n",
       "\\end{enumerate*}\n"
      ],
      "text/markdown": [
       "1. 'MenTxt/1999.txt'\n",
       "2. 'MenTxt/2000.txt'\n",
       "3. 'MenTxt/2001.txt'\n",
       "4. 'MenTxt/2002.txt'\n",
       "5. 'MenTxt/2003.txt'\n",
       "6. 'MenTxt/2004.txt'\n",
       "7. 'MenTxt/2005.txt'\n",
       "8. 'MenTxt/2006.txt'\n",
       "9. 'MenTxt/2007.txt'\n",
       "10. 'MenTxt/2008.txt'\n",
       "11. 'MenTxt/2009.txt'\n",
       "12. 'MenTxt/2010.txt'\n",
       "13. 'MenTxt/2011.txt'\n",
       "14. 'MenTxt/2012.txt'\n",
       "\n",
       "\n"
      ],
      "text/plain": [
       " [1] \"MenTxt/1999.txt\" \"MenTxt/2000.txt\" \"MenTxt/2001.txt\" \"MenTxt/2002.txt\"\n",
       " [5] \"MenTxt/2003.txt\" \"MenTxt/2004.txt\" \"MenTxt/2005.txt\" \"MenTxt/2006.txt\"\n",
       " [9] \"MenTxt/2007.txt\" \"MenTxt/2008.txt\" \"MenTxt/2009.txt\" \"MenTxt/2010.txt\"\n",
       "[13] \"MenTxt/2011.txt\" \"MenTxt/2012.txt\""
      ]
     },
     "metadata": {},
     "output_type": "display_data"
    }
   ],
   "source": [
    "men.files <- paste(\"MenTxt/\", 1999:2012, \".txt\", sep=\"\")\n",
    "men.files"
   ]
  },
  {
   "cell_type": "code",
   "execution_count": 47,
   "metadata": {},
   "outputs": [
    {
     "data": {
      "text/html": [
       "14"
      ],
      "text/latex": [
       "14"
      ],
      "text/markdown": [
       "14"
      ],
      "text/plain": [
       "[1] 14"
      ]
     },
     "metadata": {},
     "output_type": "display_data"
    }
   ],
   "source": [
    "men.data <- lapply(men.files, read.cherry)\n",
    "length(men.data)"
   ]
  },
  {
   "cell_type": "markdown",
   "metadata": {},
   "source": [
    "Now that we have the list of matrices, we need to convert these to data frames so the columns can have different data types. In particular, age should be an integer and the time columns will need to be converted into doubles for the number of minutes taken."
   ]
  },
  {
   "cell_type": "code",
   "execution_count": 48,
   "metadata": {},
   "outputs": [
    {
     "data": {
      "text/html": [
       "'data.frame'"
      ],
      "text/latex": [
       "'data.frame'"
      ],
      "text/markdown": [
       "'data.frame'"
      ],
      "text/plain": [
       "[1] \"data.frame\""
      ]
     },
     "metadata": {},
     "output_type": "display_data"
    }
   ],
   "source": [
    "men.data <- lapply(men.data, as.data.frame)\n",
    "class(men.data[[1]])"
   ]
  },
  {
   "cell_type": "markdown",
   "metadata": {},
   "source": [
    "### Read women's data\n",
    "\n",
    "Now we do the exact same process with the women's data."
   ]
  },
  {
   "cell_type": "code",
   "execution_count": 49,
   "metadata": {},
   "outputs": [
    {
     "data": {
      "text/html": [
       "<ol class=list-inline>\n",
       "\t<li>'WomenTxt/1999.txt'</li>\n",
       "\t<li>'WomenTxt/2000.txt'</li>\n",
       "\t<li>'WomenTxt/2001.txt'</li>\n",
       "\t<li>'WomenTxt/2002.txt'</li>\n",
       "\t<li>'WomenTxt/2003.txt'</li>\n",
       "\t<li>'WomenTxt/2004.txt'</li>\n",
       "\t<li>'WomenTxt/2005.txt'</li>\n",
       "\t<li>'WomenTxt/2006.txt'</li>\n",
       "\t<li>'WomenTxt/2007.txt'</li>\n",
       "\t<li>'WomenTxt/2008.txt'</li>\n",
       "\t<li>'WomenTxt/2009.txt'</li>\n",
       "\t<li>'WomenTxt/2010.txt'</li>\n",
       "\t<li>'WomenTxt/2011.txt'</li>\n",
       "\t<li>'WomenTxt/2012.txt'</li>\n",
       "</ol>\n"
      ],
      "text/latex": [
       "\\begin{enumerate*}\n",
       "\\item 'WomenTxt/1999.txt'\n",
       "\\item 'WomenTxt/2000.txt'\n",
       "\\item 'WomenTxt/2001.txt'\n",
       "\\item 'WomenTxt/2002.txt'\n",
       "\\item 'WomenTxt/2003.txt'\n",
       "\\item 'WomenTxt/2004.txt'\n",
       "\\item 'WomenTxt/2005.txt'\n",
       "\\item 'WomenTxt/2006.txt'\n",
       "\\item 'WomenTxt/2007.txt'\n",
       "\\item 'WomenTxt/2008.txt'\n",
       "\\item 'WomenTxt/2009.txt'\n",
       "\\item 'WomenTxt/2010.txt'\n",
       "\\item 'WomenTxt/2011.txt'\n",
       "\\item 'WomenTxt/2012.txt'\n",
       "\\end{enumerate*}\n"
      ],
      "text/markdown": [
       "1. 'WomenTxt/1999.txt'\n",
       "2. 'WomenTxt/2000.txt'\n",
       "3. 'WomenTxt/2001.txt'\n",
       "4. 'WomenTxt/2002.txt'\n",
       "5. 'WomenTxt/2003.txt'\n",
       "6. 'WomenTxt/2004.txt'\n",
       "7. 'WomenTxt/2005.txt'\n",
       "8. 'WomenTxt/2006.txt'\n",
       "9. 'WomenTxt/2007.txt'\n",
       "10. 'WomenTxt/2008.txt'\n",
       "11. 'WomenTxt/2009.txt'\n",
       "12. 'WomenTxt/2010.txt'\n",
       "13. 'WomenTxt/2011.txt'\n",
       "14. 'WomenTxt/2012.txt'\n",
       "\n",
       "\n"
      ],
      "text/plain": [
       " [1] \"WomenTxt/1999.txt\" \"WomenTxt/2000.txt\" \"WomenTxt/2001.txt\"\n",
       " [4] \"WomenTxt/2002.txt\" \"WomenTxt/2003.txt\" \"WomenTxt/2004.txt\"\n",
       " [7] \"WomenTxt/2005.txt\" \"WomenTxt/2006.txt\" \"WomenTxt/2007.txt\"\n",
       "[10] \"WomenTxt/2008.txt\" \"WomenTxt/2009.txt\" \"WomenTxt/2010.txt\"\n",
       "[13] \"WomenTxt/2011.txt\" \"WomenTxt/2012.txt\""
      ]
     },
     "metadata": {},
     "output_type": "display_data"
    }
   ],
   "source": [
    "women.files <- paste(\"WomenTxt/\", 1999:2012, \".txt\", sep=\"\")\n",
    "women.files"
   ]
  },
  {
   "cell_type": "code",
   "execution_count": 50,
   "metadata": {},
   "outputs": [
    {
     "data": {
      "text/html": [
       "14"
      ],
      "text/latex": [
       "14"
      ],
      "text/markdown": [
       "14"
      ],
      "text/plain": [
       "[1] 14"
      ]
     },
     "metadata": {},
     "output_type": "display_data"
    }
   ],
   "source": [
    "women.data <- lapply(women.files, read.cherry)\n",
    "length(women.data)"
   ]
  },
  {
   "cell_type": "code",
   "execution_count": 51,
   "metadata": {},
   "outputs": [
    {
     "data": {
      "text/html": [
       "'data.frame'"
      ],
      "text/latex": [
       "'data.frame'"
      ],
      "text/markdown": [
       "'data.frame'"
      ],
      "text/plain": [
       "[1] \"data.frame\""
      ]
     },
     "metadata": {},
     "output_type": "display_data"
    }
   ],
   "source": [
    "women.data <- lapply(women.data, as.data.frame)\n",
    "class(women.data[[1]])"
   ]
  },
  {
   "cell_type": "markdown",
   "metadata": {},
   "source": [
    "## Convert age values to numeric\n",
    "\n",
    "As we can see, the current data type for age is a factor."
   ]
  },
  {
   "cell_type": "code",
   "execution_count": 52,
   "metadata": {},
   "outputs": [
    {
     "data": {
      "text/html": [
       "'factor'"
      ],
      "text/latex": [
       "'factor'"
      ],
      "text/markdown": [
       "'factor'"
      ],
      "text/plain": [
       "[1] \"factor\""
      ]
     },
     "metadata": {},
     "output_type": "display_data"
    }
   ],
   "source": [
    "class(women.data[[1]]$ag)"
   ]
  },
  {
   "cell_type": "markdown",
   "metadata": {},
   "source": [
    "This doesn't make since because there is a true ordering to age values, and we expect that there is a relationship between age and performance, particularly as a longitudinal study with the same runner over the years of his/her participation.\n",
    "\n",
    "Fortunately, the conversion process here is simple, as we only need to change the age column (`ag`) with `as.numeric` and return the data frame."
   ]
  },
  {
   "cell_type": "code",
   "execution_count": 53,
   "metadata": {},
   "outputs": [
    {
     "name": "stderr",
     "output_type": "stream",
     "text": [
      "Warning message in FUN(X[[i]], ...):\n",
      "\"NAs introduced by coercion\""
     ]
    },
    {
     "data": {
      "text/html": [
       "'numeric'"
      ],
      "text/latex": [
       "'numeric'"
      ],
      "text/markdown": [
       "'numeric'"
      ],
      "text/plain": [
       "[1] \"numeric\""
      ]
     },
     "metadata": {},
     "output_type": "display_data"
    }
   ],
   "source": [
    "convert.age <- function(x) {\n",
    "    x$ag <- as.numeric(as.character(x$ag))\n",
    "    return(x)\n",
    "}\n",
    "\n",
    "men.data <- lapply(men.data, convert.age)\n",
    "women.data <- lapply(women.data, convert.age)\n",
    "\n",
    "class(women.data[[1]]$ag)"
   ]
  },
  {
   "cell_type": "markdown",
   "metadata": {},
   "source": [
    "As a final sanity check, we look at the data type for the first year of women's data to see that it has changed from `factor` to `numeric`."
   ]
  },
  {
   "cell_type": "markdown",
   "metadata": {},
   "source": [
    "# Convert time to numeric\n",
    "\n",
    "The more challenging process is converting the time values. These are composed of many `NA`s and the rest are in `hh:mm:ss` format. However, for runners who took less than an hour to complete the race, times are only given in `mm:ss`. Therefore, we need to account for the number of colons encountered for each row. If the value is `NA`, we need to return it as-is, rather than imputing the data.\n",
    "\n",
    "Future interesting work would be to impute the data by taking the average of the racer one rank above and one rank below the racer with the missing time. This should be the most accurate way to impute the data, because all racers have a ranking."
   ]
  },
  {
   "cell_type": "code",
   "execution_count": 54,
   "metadata": {},
   "outputs": [
    {
     "data": {
      "text/html": [
       "'factor'"
      ],
      "text/latex": [
       "'factor'"
      ],
      "text/markdown": [
       "'factor'"
      ],
      "text/plain": [
       "[1] \"factor\""
      ]
     },
     "metadata": {},
     "output_type": "display_data"
    }
   ],
   "source": [
    "class(women.data[[1]]$time)"
   ]
  },
  {
   "cell_type": "markdown",
   "metadata": {},
   "source": [
    "Once again, we see that the `time` column is a `factor`, but it should be `numeric`. To convert, we create a function `time.split` that is applied to each of gun time, net time, and time after converting each one to a `character` data type.\n",
    "\n",
    "The resulting time strings are split on \":\" and the values are converted into numbers. If there is an hour field, we convert it into minutes. We add this to the minutes field, if it exists. Finally, we add the seconds field (converted into fractions of minutes)."
   ]
  },
  {
   "cell_type": "code",
   "execution_count": 55,
   "metadata": {
    "collapsed": true
   },
   "outputs": [],
   "source": [
    "convert.time <- function(x) {\n",
    "    time.split <- function(t) {\n",
    "        if (is.na(t)) {\n",
    "            return(NaN)\n",
    "        }\n",
    "        \n",
    "        #tryCatch({\n",
    "            split.time <- as.numeric(unlist(strsplit(t, split=\":\")))\n",
    "            if (length(split.time) == 1) {\n",
    "                return(split.time[[1]] / 60)\n",
    "            } else if (length(split.time) == 2) {\n",
    "                return(split.time[[1]] + split.time[[2]] / 60)\n",
    "            } else if (length(split.time) == 3) {\n",
    "                return(split.time[[1]] * 60 + split.time[[2]] + split.time[[3]] / 60)\n",
    "            }    \n",
    "        #}, error=function(error) {\n",
    "        #    print(error)\n",
    "        #    print(t)\n",
    "        #})\n",
    "    }\n",
    "    \n",
    "    x$gun <- sapply(as.character(x$gun), time.split)\n",
    "    x$net <- sapply(as.character(x$net), time.split)\n",
    "    x$time <- sapply(as.character(x$time), time.split)\n",
    "    \n",
    "    return(x)\n",
    "}"
   ]
  },
  {
   "cell_type": "markdown",
   "metadata": {},
   "source": [
    "This conversion function is then applied to each data frame in both the men and women's data. We wrap the `lapply` calls in `suppressWarnings()` because returning `NA` triggers several thousand warnings for rows that already had a value of `NA`."
   ]
  },
  {
   "cell_type": "code",
   "execution_count": 56,
   "metadata": {},
   "outputs": [
    {
     "data": {
      "text/html": [
       "'numeric'"
      ],
      "text/latex": [
       "'numeric'"
      ],
      "text/markdown": [
       "'numeric'"
      ],
      "text/plain": [
       "[1] \"numeric\""
      ]
     },
     "metadata": {},
     "output_type": "display_data"
    }
   ],
   "source": [
    "suppressWarnings({\n",
    "    men.data <- lapply(men.data, convert.time)\n",
    "    women.data <- lapply(women.data, convert.time)\n",
    "\n",
    "    class(women.data[[1]]$time)\n",
    "})"
   ]
  },
  {
   "cell_type": "markdown",
   "metadata": {},
   "source": [
    "## Data exploration\n",
    "\n",
    "The next step in the process is to visualize and explore the distributions of the data."
   ]
  },
  {
   "cell_type": "code",
   "execution_count": 57,
   "metadata": {},
   "outputs": [
    {
     "data": {
      "text/html": [
       "<ol class=list-inline>\n",
       "\t<li>'1999'</li>\n",
       "\t<li>'2000'</li>\n",
       "\t<li>'2001'</li>\n",
       "\t<li>'2002'</li>\n",
       "\t<li>'2003'</li>\n",
       "\t<li>'2004'</li>\n",
       "\t<li>'2005'</li>\n",
       "\t<li>'2006'</li>\n",
       "\t<li>'2007'</li>\n",
       "\t<li>'2008'</li>\n",
       "\t<li>'2009'</li>\n",
       "\t<li>'2010'</li>\n",
       "\t<li>'2011'</li>\n",
       "\t<li>'2012'</li>\n",
       "</ol>\n"
      ],
      "text/latex": [
       "\\begin{enumerate*}\n",
       "\\item '1999'\n",
       "\\item '2000'\n",
       "\\item '2001'\n",
       "\\item '2002'\n",
       "\\item '2003'\n",
       "\\item '2004'\n",
       "\\item '2005'\n",
       "\\item '2006'\n",
       "\\item '2007'\n",
       "\\item '2008'\n",
       "\\item '2009'\n",
       "\\item '2010'\n",
       "\\item '2011'\n",
       "\\item '2012'\n",
       "\\end{enumerate*}\n"
      ],
      "text/markdown": [
       "1. '1999'\n",
       "2. '2000'\n",
       "3. '2001'\n",
       "4. '2002'\n",
       "5. '2003'\n",
       "6. '2004'\n",
       "7. '2005'\n",
       "8. '2006'\n",
       "9. '2007'\n",
       "10. '2008'\n",
       "11. '2009'\n",
       "12. '2010'\n",
       "13. '2011'\n",
       "14. '2012'\n",
       "\n",
       "\n"
      ],
      "text/plain": [
       " [1] \"1999\" \"2000\" \"2001\" \"2002\" \"2003\" \"2004\" \"2005\" \"2006\" \"2007\" \"2008\"\n",
       "[11] \"2009\" \"2010\" \"2011\" \"2012\""
      ]
     },
     "metadata": {},
     "output_type": "display_data"
    }
   ],
   "source": [
    "names(men.data) <- 1999:2012\n",
    "names(women.data) <- 1999:2012\n",
    "\n",
    "names(men.data)"
   ]
  },
  {
   "cell_type": "code",
   "execution_count": 58,
   "metadata": {},
   "outputs": [
    {
     "data": {
      "text/html": [
       "<table>\n",
       "<thead><tr><th scope=col>name</th><th scope=col>home</th><th scope=col>ag</th><th scope=col>gun</th><th scope=col>net</th><th scope=col>time</th></tr></thead>\n",
       "<tbody>\n",
       "\t<tr><td>Worku Bikila         </td><td>Ethiopia             </td><td>28                   </td><td>NaN                  </td><td>NaN                  </td><td>46.98333             </td></tr>\n",
       "\t<tr><td>Lazarus Nyakeraka    </td><td>Kenya                </td><td>24                   </td><td>NaN                  </td><td>NaN                  </td><td>47.01667             </td></tr>\n",
       "\t<tr><td>James Kariuki        </td><td>Kenya                </td><td>27                   </td><td>NaN                  </td><td>NaN                  </td><td>47.05000             </td></tr>\n",
       "\t<tr><td>William Kiptum       </td><td>Kenya                </td><td>28                   </td><td>NaN                  </td><td>NaN                  </td><td>47.11667             </td></tr>\n",
       "\t<tr><td>Joseph Kimani        </td><td>Kenya                </td><td>26                   </td><td>NaN                  </td><td>NaN                  </td><td>47.51667             </td></tr>\n",
       "\t<tr><td>Josphat Machuka      </td><td>Kenya                </td><td>25                   </td><td>NaN                  </td><td>NaN                  </td><td>47.55000             </td></tr>\n",
       "</tbody>\n",
       "</table>\n"
      ],
      "text/latex": [
       "\\begin{tabular}{r|llllll}\n",
       " name & home & ag & gun & net & time\\\\\n",
       "\\hline\n",
       "\t Worku Bikila          & Ethiopia              & 28                    & NaN                   & NaN                   & 46.98333             \\\\\n",
       "\t Lazarus Nyakeraka     & Kenya                 & 24                    & NaN                   & NaN                   & 47.01667             \\\\\n",
       "\t James Kariuki         & Kenya                 & 27                    & NaN                   & NaN                   & 47.05000             \\\\\n",
       "\t William Kiptum        & Kenya                 & 28                    & NaN                   & NaN                   & 47.11667             \\\\\n",
       "\t Joseph Kimani         & Kenya                 & 26                    & NaN                   & NaN                   & 47.51667             \\\\\n",
       "\t Josphat Machuka       & Kenya                 & 25                    & NaN                   & NaN                   & 47.55000             \\\\\n",
       "\\end{tabular}\n"
      ],
      "text/markdown": [
       "\n",
       "name | home | ag | gun | net | time | \n",
       "|---|---|---|---|---|---|\n",
       "| Worku Bikila          | Ethiopia              | 28                    | NaN                   | NaN                   | 46.98333              | \n",
       "| Lazarus Nyakeraka     | Kenya                 | 24                    | NaN                   | NaN                   | 47.01667              | \n",
       "| James Kariuki         | Kenya                 | 27                    | NaN                   | NaN                   | 47.05000              | \n",
       "| William Kiptum        | Kenya                 | 28                    | NaN                   | NaN                   | 47.11667              | \n",
       "| Joseph Kimani         | Kenya                 | 26                    | NaN                   | NaN                   | 47.51667              | \n",
       "| Josphat Machuka       | Kenya                 | 25                    | NaN                   | NaN                   | 47.55000              | \n",
       "\n",
       "\n"
      ],
      "text/plain": [
       "  name                  home               ag gun net time    \n",
       "1 Worku Bikila          Ethiopia           28 NaN NaN 46.98333\n",
       "2 Lazarus Nyakeraka     Kenya              24 NaN NaN 47.01667\n",
       "3 James Kariuki         Kenya              27 NaN NaN 47.05000\n",
       "4 William Kiptum        Kenya              28 NaN NaN 47.11667\n",
       "5 Joseph Kimani         Kenya              26 NaN NaN 47.51667\n",
       "6 Josphat Machuka       Kenya              25 NaN NaN 47.55000"
      ]
     },
     "metadata": {},
     "output_type": "display_data"
    }
   ],
   "source": [
    "head(men.data[[1]])"
   ]
  },
  {
   "cell_type": "markdown",
   "metadata": {},
   "source": [
    "### Men ages"
   ]
  },
  {
   "cell_type": "code",
   "execution_count": 59,
   "metadata": {},
   "outputs": [
    {
     "data": {
      "image/png": "[encoded data removed]",
      "text/plain": [
       "plot without title"
      ]
     },
     "metadata": {},
     "output_type": "display_data"
    }
   ],
   "source": [
    "men.ages <- lapply(men.data, function(x) {as.numeric(x$ag)})\n",
    "boxplot(men.ages, ylab=\"Age\", xlab=\"Year\")"
   ]
  },
  {
   "cell_type": "markdown",
   "metadata": {},
   "source": [
    "### Women ages"
   ]
  },
  {
   "cell_type": "code",
   "execution_count": 60,
   "metadata": {},
   "outputs": [
    {
     "data": {
      "image/png": "[encoded data removed]",
      "text/plain": [
       "plot without title"
      ]
     },
     "metadata": {},
     "output_type": "display_data"
    }
   ],
   "source": [
    "women.ages <- lapply(women.data, function(x) {as.numeric(x$ag)})\n",
    "boxplot(women.ages, ylab=\"Age\", xlab=\"Year\")"
   ]
  },
  {
   "cell_type": "markdown",
   "metadata": {},
   "source": [
    "All looks good with the ages with the exception of apparent 0 and `NA` values. We will clean those values in the data imputation section. "
   ]
  },
  {
   "cell_type": "markdown",
   "metadata": {},
   "source": [
    "### Men times"
   ]
  },
  {
   "cell_type": "code",
   "execution_count": 61,
   "metadata": {},
   "outputs": [
    {
     "data": {
      "text/html": [
       "'numeric'"
      ],
      "text/latex": [
       "'numeric'"
      ],
      "text/markdown": [
       "'numeric'"
      ],
      "text/plain": [
       "[1] \"numeric\""
      ]
     },
     "metadata": {},
     "output_type": "display_data"
    }
   ],
   "source": [
    "class(men.data[[2]]$net)"
   ]
  },
  {
   "cell_type": "code",
   "execution_count": 62,
   "metadata": {},
   "outputs": [
    {
     "data": {
      "image/png": "[encoded data removed]",
      "text/plain": [
       "plot without title"
      ]
     },
     "metadata": {},
     "output_type": "display_data"
    }
   ],
   "source": [
    "men.times <- lapply(men.data, function(x) {\n",
    "    na.time <- sum(is.nan(x$time))\n",
    "    na.gun <- sum(is.nan(x$gun))\n",
    "    na.net <- sum(is.nan(x$net))\n",
    "    \n",
    "    least.missing <- min(c(na.time, na.gun, na.net))\n",
    "    \n",
    "    \n",
    "    if (least.missing == na.time) {\n",
    "        return(x$time)\n",
    "    } else if (least.missing == na.gun) {\n",
    "        return(x$gun)\n",
    "    } else {\n",
    "        return(x$net)\n",
    "    }\n",
    "})\n",
    "\n",
    "boxplot(men.times, ylab=\"Minutes\", xlab=\"Year\")"
   ]
  },
  {
   "cell_type": "markdown",
   "metadata": {},
   "source": [
    "### Women times"
   ]
  },
  {
   "cell_type": "code",
   "execution_count": 63,
   "metadata": {},
   "outputs": [
    {
     "data": {
      "image/png": "[encoded data removed]",
      "text/plain": [
       "plot without title"
      ]
     },
     "metadata": {},
     "output_type": "display_data"
    }
   ],
   "source": [
    "women.times <- lapply(women.data, function(x) {\n",
    "    na.time <- sum(is.nan(x$time))\n",
    "    na.gun <- sum(is.nan(x$gun))\n",
    "    na.net <- sum(is.nan(x$net))\n",
    "    \n",
    "    least.missing <- min(c(na.time, na.gun, na.net))\n",
    "    \n",
    "    \n",
    "    if (least.missing == na.time) {\n",
    "        return(x$time)\n",
    "    } else if (least.missing == na.gun) {\n",
    "        return(x$gun)\n",
    "    } else {\n",
    "        return(x$net)\n",
    "    }\n",
    "})\n",
    "\n",
    "boxplot(women.times, ylab=\"Minutes\", xlab=\"Year\")"
   ]
  },
  {
   "cell_type": "markdown",
   "metadata": {},
   "source": [
    "## Data imputation\n",
    "\n",
    "We see from the distribution plots that there are several missing age values. For these records, we impute with the average age for that year.\n",
    "\n",
    "We also see that there are several participants who did not finish the race at all. It is impossible to guess at the times for these runners, so they have simply been removed from their datasets."
   ]
  },
  {
   "cell_type": "markdown",
   "metadata": {},
   "source": [
    "### Impute ages"
   ]
  },
  {
   "cell_type": "code",
   "execution_count": 64,
   "metadata": {},
   "outputs": [
    {
     "data": {
      "text/html": [
       "<dl>\n",
       "\t<dt>$`1999`</dt>\n",
       "\t\t<dd>1</dd>\n",
       "\t<dt>$`2000`</dt>\n",
       "\t\t<dd>0</dd>\n",
       "\t<dt>$`2001`</dt>\n",
       "\t\t<dd>3</dd>\n",
       "\t<dt>$`2002`</dt>\n",
       "\t\t<dd>4</dd>\n",
       "\t<dt>$`2003`</dt>\n",
       "\t\t<dd>2</dd>\n",
       "\t<dt>$`2004`</dt>\n",
       "\t\t<dd>0</dd>\n",
       "\t<dt>$`2005`</dt>\n",
       "\t\t<dd>10</dd>\n",
       "\t<dt>$`2006`</dt>\n",
       "\t\t<dd>1</dd>\n",
       "\t<dt>$`2007`</dt>\n",
       "\t\t<dd>4</dd>\n",
       "\t<dt>$`2008`</dt>\n",
       "\t\t<dd>0</dd>\n",
       "\t<dt>$`2009`</dt>\n",
       "\t\t<dd>0</dd>\n",
       "\t<dt>$`2010`</dt>\n",
       "\t\t<dd>4</dd>\n",
       "\t<dt>$`2011`</dt>\n",
       "\t\t<dd>1</dd>\n",
       "\t<dt>$`2012`</dt>\n",
       "\t\t<dd>2</dd>\n",
       "</dl>\n"
      ],
      "text/latex": [
       "\\begin{description}\n",
       "\\item[\\$`1999`] 1\n",
       "\\item[\\$`2000`] 0\n",
       "\\item[\\$`2001`] 3\n",
       "\\item[\\$`2002`] 4\n",
       "\\item[\\$`2003`] 2\n",
       "\\item[\\$`2004`] 0\n",
       "\\item[\\$`2005`] 10\n",
       "\\item[\\$`2006`] 1\n",
       "\\item[\\$`2007`] 4\n",
       "\\item[\\$`2008`] 0\n",
       "\\item[\\$`2009`] 0\n",
       "\\item[\\$`2010`] 4\n",
       "\\item[\\$`2011`] 1\n",
       "\\item[\\$`2012`] 2\n",
       "\\end{description}\n"
      ],
      "text/markdown": [
       "$`1999`\n",
       ":   1\n",
       "$`2000`\n",
       ":   0\n",
       "$`2001`\n",
       ":   3\n",
       "$`2002`\n",
       ":   4\n",
       "$`2003`\n",
       ":   2\n",
       "$`2004`\n",
       ":   0\n",
       "$`2005`\n",
       ":   10\n",
       "$`2006`\n",
       ":   1\n",
       "$`2007`\n",
       ":   4\n",
       "$`2008`\n",
       ":   0\n",
       "$`2009`\n",
       ":   0\n",
       "$`2010`\n",
       ":   4\n",
       "$`2011`\n",
       ":   1\n",
       "$`2012`\n",
       ":   2\n",
       "\n",
       "\n"
      ],
      "text/plain": [
       "$`1999`\n",
       "[1] 1\n",
       "\n",
       "$`2000`\n",
       "[1] 0\n",
       "\n",
       "$`2001`\n",
       "[1] 3\n",
       "\n",
       "$`2002`\n",
       "[1] 4\n",
       "\n",
       "$`2003`\n",
       "[1] 2\n",
       "\n",
       "$`2004`\n",
       "[1] 0\n",
       "\n",
       "$`2005`\n",
       "[1] 10\n",
       "\n",
       "$`2006`\n",
       "[1] 1\n",
       "\n",
       "$`2007`\n",
       "[1] 4\n",
       "\n",
       "$`2008`\n",
       "[1] 0\n",
       "\n",
       "$`2009`\n",
       "[1] 0\n",
       "\n",
       "$`2010`\n",
       "[1] 4\n",
       "\n",
       "$`2011`\n",
       "[1] 1\n",
       "\n",
       "$`2012`\n",
       "[1] 2\n"
      ]
     },
     "metadata": {},
     "output_type": "display_data"
    },
    {
     "data": {
      "text/html": [
       "<dl>\n",
       "\t<dt>$`1999`</dt>\n",
       "\t\t<dd>0</dd>\n",
       "\t<dt>$`2000`</dt>\n",
       "\t\t<dd>0</dd>\n",
       "\t<dt>$`2001`</dt>\n",
       "\t\t<dd>0</dd>\n",
       "\t<dt>$`2002`</dt>\n",
       "\t\t<dd>0</dd>\n",
       "\t<dt>$`2003`</dt>\n",
       "\t\t<dd>0</dd>\n",
       "\t<dt>$`2004`</dt>\n",
       "\t\t<dd>0</dd>\n",
       "\t<dt>$`2005`</dt>\n",
       "\t\t<dd>0</dd>\n",
       "\t<dt>$`2006`</dt>\n",
       "\t\t<dd>0</dd>\n",
       "\t<dt>$`2007`</dt>\n",
       "\t\t<dd>0</dd>\n",
       "\t<dt>$`2008`</dt>\n",
       "\t\t<dd>0</dd>\n",
       "\t<dt>$`2009`</dt>\n",
       "\t\t<dd>0</dd>\n",
       "\t<dt>$`2010`</dt>\n",
       "\t\t<dd>0</dd>\n",
       "\t<dt>$`2011`</dt>\n",
       "\t\t<dd>0</dd>\n",
       "\t<dt>$`2012`</dt>\n",
       "\t\t<dd>0</dd>\n",
       "</dl>\n"
      ],
      "text/latex": [
       "\\begin{description}\n",
       "\\item[\\$`1999`] 0\n",
       "\\item[\\$`2000`] 0\n",
       "\\item[\\$`2001`] 0\n",
       "\\item[\\$`2002`] 0\n",
       "\\item[\\$`2003`] 0\n",
       "\\item[\\$`2004`] 0\n",
       "\\item[\\$`2005`] 0\n",
       "\\item[\\$`2006`] 0\n",
       "\\item[\\$`2007`] 0\n",
       "\\item[\\$`2008`] 0\n",
       "\\item[\\$`2009`] 0\n",
       "\\item[\\$`2010`] 0\n",
       "\\item[\\$`2011`] 0\n",
       "\\item[\\$`2012`] 0\n",
       "\\end{description}\n"
      ],
      "text/markdown": [
       "$`1999`\n",
       ":   0\n",
       "$`2000`\n",
       ":   0\n",
       "$`2001`\n",
       ":   0\n",
       "$`2002`\n",
       ":   0\n",
       "$`2003`\n",
       ":   0\n",
       "$`2004`\n",
       ":   0\n",
       "$`2005`\n",
       ":   0\n",
       "$`2006`\n",
       ":   0\n",
       "$`2007`\n",
       ":   0\n",
       "$`2008`\n",
       ":   0\n",
       "$`2009`\n",
       ":   0\n",
       "$`2010`\n",
       ":   0\n",
       "$`2011`\n",
       ":   0\n",
       "$`2012`\n",
       ":   0\n",
       "\n",
       "\n"
      ],
      "text/plain": [
       "$`1999`\n",
       "[1] 0\n",
       "\n",
       "$`2000`\n",
       "[1] 0\n",
       "\n",
       "$`2001`\n",
       "[1] 0\n",
       "\n",
       "$`2002`\n",
       "[1] 0\n",
       "\n",
       "$`2003`\n",
       "[1] 0\n",
       "\n",
       "$`2004`\n",
       "[1] 0\n",
       "\n",
       "$`2005`\n",
       "[1] 0\n",
       "\n",
       "$`2006`\n",
       "[1] 0\n",
       "\n",
       "$`2007`\n",
       "[1] 0\n",
       "\n",
       "$`2008`\n",
       "[1] 0\n",
       "\n",
       "$`2009`\n",
       "[1] 0\n",
       "\n",
       "$`2010`\n",
       "[1] 0\n",
       "\n",
       "$`2011`\n",
       "[1] 0\n",
       "\n",
       "$`2012`\n",
       "[1] 0\n"
      ]
     },
     "metadata": {},
     "output_type": "display_data"
    }
   ],
   "source": [
    "lapply(men.data, function(x) {\n",
    "    sum((x$ag < 10) | (is.na(x$ag)))\n",
    "})\n",
    "\n",
    "impute.ages <- function(x) {\n",
    "    bad.ages <- (x$ag < 10) | (is.na(x$ag))\n",
    "    x$ag[bad.ages] <- mean(x$ag, na.rm=TRUE)\n",
    "    \n",
    "    return(x)\n",
    "}\n",
    "\n",
    "men.data <- lapply(men.data, impute.ages)\n",
    "women.data <- lapply(women.data, impute.ages)\n",
    "\n",
    "lapply(men.data, function(x) {\n",
    "    sum((x$ag < 10) | (is.na(x$ag)))\n",
    "})"
   ]
  },
  {
   "cell_type": "markdown",
   "metadata": {},
   "source": [
    "### Impute times\n",
    "\n",
    "The first step is to find the best time values"
   ]
  },
  {
   "cell_type": "code",
   "execution_count": 65,
   "metadata": {
    "collapsed": true
   },
   "outputs": [],
   "source": [
    "add.real.times <- function(x) {\n",
    "    na.time <- sum(is.nan(x$time))\n",
    "    na.gun <- sum(is.nan(x$gun))\n",
    "    na.net <- sum(is.nan(x$net))\n",
    "    \n",
    "    least.missing <- min(c(na.time, na.gun, na.net))\n",
    "    \n",
    "    \n",
    "    if (least.missing == na.time) {\n",
    "        x$real <- x$time\n",
    "    } else if (least.missing == na.gun) {\n",
    "        x$real <- x$gun\n",
    "    } else {\n",
    "        x$real <- x$net\n",
    "    }\n",
    "    \n",
    "    return(x)\n",
    "}\n",
    "\n",
    "men.data <- lapply(men.data, add.real.times)\n",
    "women.data <- lapply(women.data, add.real.times)"
   ]
  },
  {
   "cell_type": "code",
   "execution_count": 66,
   "metadata": {},
   "outputs": [
    {
     "data": {
      "text/html": [
       "<dl>\n",
       "\t<dt>$`1999`</dt>\n",
       "\t\t<dd>0</dd>\n",
       "\t<dt>$`2000`</dt>\n",
       "\t\t<dd>0</dd>\n",
       "\t<dt>$`2001`</dt>\n",
       "\t\t<dd>2</dd>\n",
       "\t<dt>$`2002`</dt>\n",
       "\t\t<dd>0</dd>\n",
       "\t<dt>$`2003`</dt>\n",
       "\t\t<dd>0</dd>\n",
       "\t<dt>$`2004`</dt>\n",
       "\t\t<dd>0</dd>\n",
       "\t<dt>$`2005`</dt>\n",
       "\t\t<dd>0</dd>\n",
       "\t<dt>$`2006`</dt>\n",
       "\t\t<dd>1</dd>\n",
       "\t<dt>$`2007`</dt>\n",
       "\t\t<dd>22</dd>\n",
       "\t<dt>$`2008`</dt>\n",
       "\t\t<dd>0</dd>\n",
       "\t<dt>$`2009`</dt>\n",
       "\t\t<dd>0</dd>\n",
       "\t<dt>$`2010`</dt>\n",
       "\t\t<dd>0</dd>\n",
       "\t<dt>$`2011`</dt>\n",
       "\t\t<dd>0</dd>\n",
       "\t<dt>$`2012`</dt>\n",
       "\t\t<dd>0</dd>\n",
       "</dl>\n"
      ],
      "text/latex": [
       "\\begin{description}\n",
       "\\item[\\$`1999`] 0\n",
       "\\item[\\$`2000`] 0\n",
       "\\item[\\$`2001`] 2\n",
       "\\item[\\$`2002`] 0\n",
       "\\item[\\$`2003`] 0\n",
       "\\item[\\$`2004`] 0\n",
       "\\item[\\$`2005`] 0\n",
       "\\item[\\$`2006`] 1\n",
       "\\item[\\$`2007`] 22\n",
       "\\item[\\$`2008`] 0\n",
       "\\item[\\$`2009`] 0\n",
       "\\item[\\$`2010`] 0\n",
       "\\item[\\$`2011`] 0\n",
       "\\item[\\$`2012`] 0\n",
       "\\end{description}\n"
      ],
      "text/markdown": [
       "$`1999`\n",
       ":   0\n",
       "$`2000`\n",
       ":   0\n",
       "$`2001`\n",
       ":   2\n",
       "$`2002`\n",
       ":   0\n",
       "$`2003`\n",
       ":   0\n",
       "$`2004`\n",
       ":   0\n",
       "$`2005`\n",
       ":   0\n",
       "$`2006`\n",
       ":   1\n",
       "$`2007`\n",
       ":   22\n",
       "$`2008`\n",
       ":   0\n",
       "$`2009`\n",
       ":   0\n",
       "$`2010`\n",
       ":   0\n",
       "$`2011`\n",
       ":   0\n",
       "$`2012`\n",
       ":   0\n",
       "\n",
       "\n"
      ],
      "text/plain": [
       "$`1999`\n",
       "[1] 0\n",
       "\n",
       "$`2000`\n",
       "[1] 0\n",
       "\n",
       "$`2001`\n",
       "[1] 2\n",
       "\n",
       "$`2002`\n",
       "[1] 0\n",
       "\n",
       "$`2003`\n",
       "[1] 0\n",
       "\n",
       "$`2004`\n",
       "[1] 0\n",
       "\n",
       "$`2005`\n",
       "[1] 0\n",
       "\n",
       "$`2006`\n",
       "[1] 1\n",
       "\n",
       "$`2007`\n",
       "[1] 22\n",
       "\n",
       "$`2008`\n",
       "[1] 0\n",
       "\n",
       "$`2009`\n",
       "[1] 0\n",
       "\n",
       "$`2010`\n",
       "[1] 0\n",
       "\n",
       "$`2011`\n",
       "[1] 0\n",
       "\n",
       "$`2012`\n",
       "[1] 0\n"
      ]
     },
     "metadata": {},
     "output_type": "display_data"
    },
    {
     "data": {
      "text/html": [
       "<dl>\n",
       "\t<dt>$`1999`</dt>\n",
       "\t\t<dd>0</dd>\n",
       "\t<dt>$`2000`</dt>\n",
       "\t\t<dd>0</dd>\n",
       "\t<dt>$`2001`</dt>\n",
       "\t\t<dd>0</dd>\n",
       "\t<dt>$`2002`</dt>\n",
       "\t\t<dd>0</dd>\n",
       "\t<dt>$`2003`</dt>\n",
       "\t\t<dd>0</dd>\n",
       "\t<dt>$`2004`</dt>\n",
       "\t\t<dd>0</dd>\n",
       "\t<dt>$`2005`</dt>\n",
       "\t\t<dd>0</dd>\n",
       "\t<dt>$`2006`</dt>\n",
       "\t\t<dd>0</dd>\n",
       "\t<dt>$`2007`</dt>\n",
       "\t\t<dd>0</dd>\n",
       "\t<dt>$`2008`</dt>\n",
       "\t\t<dd>0</dd>\n",
       "\t<dt>$`2009`</dt>\n",
       "\t\t<dd>0</dd>\n",
       "\t<dt>$`2010`</dt>\n",
       "\t\t<dd>0</dd>\n",
       "\t<dt>$`2011`</dt>\n",
       "\t\t<dd>0</dd>\n",
       "\t<dt>$`2012`</dt>\n",
       "\t\t<dd>0</dd>\n",
       "</dl>\n"
      ],
      "text/latex": [
       "\\begin{description}\n",
       "\\item[\\$`1999`] 0\n",
       "\\item[\\$`2000`] 0\n",
       "\\item[\\$`2001`] 0\n",
       "\\item[\\$`2002`] 0\n",
       "\\item[\\$`2003`] 0\n",
       "\\item[\\$`2004`] 0\n",
       "\\item[\\$`2005`] 0\n",
       "\\item[\\$`2006`] 0\n",
       "\\item[\\$`2007`] 0\n",
       "\\item[\\$`2008`] 0\n",
       "\\item[\\$`2009`] 0\n",
       "\\item[\\$`2010`] 0\n",
       "\\item[\\$`2011`] 0\n",
       "\\item[\\$`2012`] 0\n",
       "\\end{description}\n"
      ],
      "text/markdown": [
       "$`1999`\n",
       ":   0\n",
       "$`2000`\n",
       ":   0\n",
       "$`2001`\n",
       ":   0\n",
       "$`2002`\n",
       ":   0\n",
       "$`2003`\n",
       ":   0\n",
       "$`2004`\n",
       ":   0\n",
       "$`2005`\n",
       ":   0\n",
       "$`2006`\n",
       ":   0\n",
       "$`2007`\n",
       ":   0\n",
       "$`2008`\n",
       ":   0\n",
       "$`2009`\n",
       ":   0\n",
       "$`2010`\n",
       ":   0\n",
       "$`2011`\n",
       ":   0\n",
       "$`2012`\n",
       ":   0\n",
       "\n",
       "\n"
      ],
      "text/plain": [
       "$`1999`\n",
       "[1] 0\n",
       "\n",
       "$`2000`\n",
       "[1] 0\n",
       "\n",
       "$`2001`\n",
       "[1] 0\n",
       "\n",
       "$`2002`\n",
       "[1] 0\n",
       "\n",
       "$`2003`\n",
       "[1] 0\n",
       "\n",
       "$`2004`\n",
       "[1] 0\n",
       "\n",
       "$`2005`\n",
       "[1] 0\n",
       "\n",
       "$`2006`\n",
       "[1] 0\n",
       "\n",
       "$`2007`\n",
       "[1] 0\n",
       "\n",
       "$`2008`\n",
       "[1] 0\n",
       "\n",
       "$`2009`\n",
       "[1] 0\n",
       "\n",
       "$`2010`\n",
       "[1] 0\n",
       "\n",
       "$`2011`\n",
       "[1] 0\n",
       "\n",
       "$`2012`\n",
       "[1] 0\n"
      ]
     },
     "metadata": {},
     "output_type": "display_data"
    }
   ],
   "source": [
    "lapply(men.data, function(x) {\n",
    "    sum(is.na(x$real))\n",
    "})\n",
    "\n",
    "impute.real.times <- function(x) {\n",
    "    x <- x[!is.na(x$real),]\n",
    "    \n",
    "    return(x)\n",
    "}\n",
    "\n",
    "men.data <- lapply(men.data, impute.real.times)\n",
    "women.data <- lapply(women.data, impute.real.times)\n",
    "\n",
    "lapply(men.data, function(x) {\n",
    "    sum(is.na(x$real))\n",
    "})"
   ]
  },
  {
   "cell_type": "markdown",
   "metadata": {},
   "source": [
    "## Analysis\n",
    "\n",
    "Now we would like to answer a few questions of the data."
   ]
  },
  {
   "cell_type": "markdown",
   "metadata": {},
   "source": [
    "### Average age between years\n",
    "\n",
    "While some years appear to trend toward older runners, such as 1999, we would like to know whether this difference is statistically significant. Do some races actually have older runners that we cannot attribute to chance?"
   ]
  },
  {
   "cell_type": "code",
   "execution_count": 24,
   "metadata": {
    "collapsed": true
   },
   "outputs": [],
   "source": [
    "# Code goes here"
   ]
  },
  {
   "cell_type": "markdown",
   "metadata": {},
   "source": [
    "### Average time between genders\n",
    "\n",
    "Men and women typically have different run times for races. Some say that men do better in shorter races (sprints, etc.), while women often fare better in longer races (endurance running). We would like to see whether there is a statistically significant difference between the genders in a 10 mile race."
   ]
  },
  {
   "cell_type": "code",
   "execution_count": 25,
   "metadata": {
    "collapsed": true
   },
   "outputs": [],
   "source": [
    "# Code goes here"
   ]
  },
  {
   "cell_type": "markdown",
   "metadata": {},
   "source": [
    "### Average age between genders\n",
    "\n",
    "There is another discussion about whether one gender had more stamina at older ages than another. To inspect this question, we need to know whether there is a statistically significant difference in age between the genders."
   ]
  },
  {
   "cell_type": "code",
   "execution_count": 75,
   "metadata": {
    "collapsed": true
   },
   "outputs": [],
   "source": [
    "all.men <- rbind(men.data[[1]], men.data[[2]], men.data[[3]], men.data[[4]], men.data[[5]],\n",
    "                 men.data[[6]], men.data[[7]], men.data[[8]], men.data[[9]], men.data[[10]],\n",
    "                 men.data[[11]], men.data[[12]], men.data[[13]], men.data[[14]])\n",
    "\n",
    "all.women <- rbind(women.data[[1]], women.data[[2]], women.data[[3]], women.data[[4]],\n",
    "                   women.data[[5]], women.data[[6]], women.data[[7]], women.data[[8]],\n",
    "                   women.data[[9]], women.data[[10]], women.data[[11]], women.data[[12]],\n",
    "                   women.data[[13]], women.data[[14]])"
   ]
  },
  {
   "cell_type": "code",
   "execution_count": 76,
   "metadata": {},
   "outputs": [
    {
     "data": {
      "image/png": "[encoded data removed]",
      "text/plain": [
       "plot without title"
      ]
     },
     "metadata": {},
     "output_type": "display_data"
    }
   ],
   "source": [
    "gender.ages <- list(men=all.men$ag, women=all.women$ag)\n",
    "boxplot(gender.ages, ylab=\"Age\", xlab=\"Gender\")"
   ]
  },
  {
   "cell_type": "markdown",
   "metadata": {},
   "source": [
    "The two distributions look approximately normal, so we don't see a need for any further data transformations."
   ]
  },
  {
   "cell_type": "code",
   "execution_count": 77,
   "metadata": {},
   "outputs": [
    {
     "data": {
      "text/plain": [
       "\n",
       "\tWelch Two Sample t-test\n",
       "\n",
       "data:  gender.ages[[1]] and gender.ages[[2]]\n",
       "t = 89.84, df = 137800, p-value < 2.2e-16\n",
       "alternative hypothesis: true difference in means is not equal to 0\n",
       "95 percent confidence interval:\n",
       " 4.658713 4.866519\n",
       "sample estimates:\n",
       "mean of x mean of y \n",
       " 38.61190  33.84928 \n"
      ]
     },
     "metadata": {},
     "output_type": "display_data"
    }
   ],
   "source": [
    "t.test(gender.ages[[1]], gender.ages[[2]])"
   ]
  },
  {
   "cell_type": "markdown",
   "metadata": {},
   "source": [
    "This shows that the mean age of male runners across all the years was 38.61, while the average age of female runners across all years was 33.85. The p-value is 2.2e-16, which means that there is strong evidence to suggest that the average age of male runners is greater than the average age of female runners.\n",
    "\n",
    "The 95% confidence interval for the difference between the means is between 4.66 and 4.87."
   ]
  }
 ],
 "metadata": {
  "kernelspec": {
   "display_name": "R",
   "language": "R",
   "name": "ir"
  },
  "language_info": {
   "codemirror_mode": "r",
   "file_extension": ".r",
   "mimetype": "text/x-r-source",
   "name": "R",
   "pygments_lexer": "r",
   "version": "3.3.2"
  }
 },
 "nbformat": 4,
 "nbformat_minor": 2
}
